{
 "cells": [
  {
   "cell_type": "code",
   "execution_count": 2,
   "id": "3b9fd9f1",
   "metadata": {},
   "outputs": [],
   "source": [
    "import pandas as pd\n",
    "import numpy as np"
   ]
  },
  {
   "cell_type": "code",
   "execution_count": 4,
   "id": "3fa5c2b3",
   "metadata": {},
   "outputs": [],
   "source": [
    "df=pd.read_csv(\"insurance.csv\")"
   ]
  },
  {
   "cell_type": "code",
   "execution_count": 5,
   "id": "a12a67a7",
   "metadata": {},
   "outputs": [],
   "source": [
    "# Simple Linear Regression\n",
    "\n",
    "X = df.iloc[:, :-1]\n",
    "y = df.iloc[:, -1]\n"
   ]
  },
  {
   "cell_type": "code",
   "execution_count": 6,
   "id": "823d3dc5",
   "metadata": {},
   "outputs": [],
   "source": [
    "from sklearn.preprocessing import LabelEncoder\n",
    "gender = LabelEncoder()\n",
    "X[\"gender\"] = gender.fit_transform(X[\"gender\"])\n",
    "\n",
    "smoker=LabelEncoder()\n",
    "X[\"smoker\"]=smoker.fit_transform(X[\"smoker\"])\n"
   ]
  },
  {
   "cell_type": "code",
   "execution_count": 7,
   "id": "d8e250df",
   "metadata": {},
   "outputs": [],
   "source": [
    "from sklearn.compose import ColumnTransformer\n",
    "from sklearn.preprocessing import OneHotEncoder\n",
    "\n",
    "ct=ColumnTransformer(transformers=[(\"Encoding\",OneHotEncoder(),[5])],remainder=\"passthrough\")\n",
    "X=ct.fit_transform(X)"
   ]
  },
  {
   "cell_type": "code",
   "execution_count": 8,
   "id": "5608f976",
   "metadata": {},
   "outputs": [],
   "source": [
    "from sklearn.preprocessing import StandardScaler\n",
    "sc = StandardScaler()\n",
    "X=sc.fit_transform(X)"
   ]
  },
  {
   "cell_type": "code",
   "execution_count": 9,
   "id": "35a7a3d6",
   "metadata": {},
   "outputs": [],
   "source": [
    "# Splitting the dataset into the Training set and Test set\n",
    "from sklearn.model_selection import train_test_split\n",
    "X_train, X_test, y_train, y_test = train_test_split(X, y, test_size = 0.2, random_state = 0)"
   ]
  },
  {
   "cell_type": "code",
   "execution_count": 11,
   "id": "b6406924",
   "metadata": {},
   "outputs": [],
   "source": [
    "from sklearn.linear_model import LinearRegression\n",
    "regressor =LinearRegression()\n",
    "regressor.fit(X_train,y_train)\n",
    "y_pred=regressor.predict(X_test)"
   ]
  },
  {
   "cell_type": "code",
   "execution_count": 12,
   "id": "b3b0fe19",
   "metadata": {},
   "outputs": [
    {
     "name": "stdout",
     "output_type": "stream",
     "text": [
      "0.7999873114884142\n"
     ]
    }
   ],
   "source": [
    "from sklearn.metrics import r2_score\n",
    "print(r2_score(y_test,y_pred))"
   ]
  },
  {
   "cell_type": "code",
   "execution_count": 15,
   "id": "ad254d52",
   "metadata": {},
   "outputs": [
    {
     "name": "stdout",
     "output_type": "stream",
     "text": [
      "Enter your age19\n",
      "Enter your genderfemale\n",
      "Enter bmi27.9\n",
      "Enter children0\n",
      "Enter wether you smoke /not?yes\n",
      "Enter areasouthwest\n",
      "You charges are: [25327.68205601]\n"
     ]
    }
   ],
   "source": [
    "#if r2 score is nearer to 1 then model is more efficient\n",
    "#hyperparameter tuning : regressor =LinearRegression(fit_intercept=False or fit_intercept=True)\n",
    "#r2 score ranger between minus infinity to 1\n",
    "\n",
    "user=pd.DataFrame({'age':[int(input('Enter your age'))],'gender':[input('Enter your gender')],\n",
    "                   'bmi':[float(input('Enter bmi'))],'children':[int(input('Enter children'))],\n",
    "                   'smoker':[input('Enter wether you smoke /not?')],'region':[input('Enter area')]})\n",
    "user['gender']=gender.transform(user['gender'])\n",
    "user['smoker']=smoker.transform(user['smoker'])\n",
    "user=ct.transform(user)\n",
    "user=sc.transform(user)\n",
    "print('You charges are:',regressor.predict((user)))"
   ]
  },
  {
   "cell_type": "code",
   "execution_count": null,
   "id": "c07c3ce7",
   "metadata": {},
   "outputs": [],
   "source": []
  }
 ],
 "metadata": {
  "kernelspec": {
   "display_name": "Python 3 (ipykernel)",
   "language": "python",
   "name": "python3"
  },
  "language_info": {
   "codemirror_mode": {
    "name": "ipython",
    "version": 3
   },
   "file_extension": ".py",
   "mimetype": "text/x-python",
   "name": "python",
   "nbconvert_exporter": "python",
   "pygments_lexer": "ipython3",
   "version": "3.9.7"
  }
 },
 "nbformat": 4,
 "nbformat_minor": 5
}
